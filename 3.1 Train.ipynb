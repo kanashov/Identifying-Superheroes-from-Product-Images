{
 "cells": [
  {
   "cell_type": "code",
   "execution_count": 1,
   "metadata": {
    "collapsed": true
   },
   "outputs": [],
   "source": [
    "import numpy as np\n",
    "import pandas as pd\n",
    "from tqdm import tqdm\n",
    "import os\n",
    "import cv2                         # To read and manipulate images\n",
    "import matplotlib.pyplot as plt    # Python 2D plotting library\n",
    "%matplotlib inline  \n",
    "from sklearn.preprocessing import LabelEncoder\n",
    "import torch\n",
    "import torchvision\n",
    "from torchvision import datasets, models, transforms\n",
    "import torch.nn as nn\n",
    "import torch.optim as optim\n",
    "from torch.optim import lr_scheduler\n",
    "from time import time\n",
    "from PIL import Image\n",
    "from torch.utils.data import Dataset, DataLoader\n",
    "from torch.utils.data.sampler import SubsetRandomSampler\n",
    "%matplotlib inline\n",
    "from sklearn.model_selection import train_test_split\n",
    "from sklearn.preprocessing import LabelEncoder\n",
    "import copy\n",
    "from torch.autograd import Variable\n",
    "import torch.nn.functional as F"
   ]
  },
  {
   "cell_type": "code",
   "execution_count": 2,
   "metadata": {
    "collapsed": true
   },
   "outputs": [],
   "source": [
    "TRAIN_PATH = 'data/CAX_Superhero_Train/'\n",
    "TEST_PATH = 'data/CAX_Superhero_Test/'\n",
    "superhero_dic = {'Ant-Man':'ant_man', 'Aquaman':'aqua_man', 'Avengers':'avengers', 'Batman':'bat_man', \n",
    "                 'Black Panther':'black_panther', 'Captain America':'captain_america', 'Catwoman':'cat_woman',\n",
    "                 'Ghost Rider':'ghostrider', 'Hulk':'hulk', 'Iron Man':'iron_man', 'Spiderman':'spider_man', \n",
    "                 'Superman':'super_man'}\n",
    "\n",
    "labelencoder_dic = {0: 'ant_man', 1: 'aqua_man', 2: 'avengers', 3: 'bat_man', 4: 'black_panther', 5: 'captain_america', \n",
    "                    6: 'cat_woman', 7: 'ghostrider', 8: 'hulk', 9: 'iron_man', 10: 'spider_man', 11: 'super_man'}\n",
    "\n",
    "#IMG_HEIGHT = 260\n",
    "#IMG_WIDTH = 200\n",
    "#IMG_HEIGHT = 224\n",
    "#IMG_WIDTH = 224\n",
    "IMG_HEIGHT = 32\n",
    "IMG_WIDTH = 32\n",
    "\n",
    "train_df = pd.read_csv('data/train_df.csv')\n",
    "test_df = pd.read_csv('data/test_df.csv')"
   ]
  },
  {
   "cell_type": "code",
   "execution_count": 3,
   "metadata": {},
   "outputs": [
    {
     "data": {
      "text/html": [
       "<div>\n",
       "<style>\n",
       "    .dataframe thead tr:only-child th {\n",
       "        text-align: right;\n",
       "    }\n",
       "\n",
       "    .dataframe thead th {\n",
       "        text-align: left;\n",
       "    }\n",
       "\n",
       "    .dataframe tbody tr th {\n",
       "        vertical-align: top;\n",
       "    }\n",
       "</style>\n",
       "<table border=\"1\" class=\"dataframe\">\n",
       "  <thead>\n",
       "    <tr style=\"text-align: right;\">\n",
       "      <th></th>\n",
       "      <th>img_name</th>\n",
       "      <th>img_height</th>\n",
       "      <th>img_width</th>\n",
       "      <th>img_ratio</th>\n",
       "      <th>num_channels</th>\n",
       "      <th>superhero</th>\n",
       "      <th>img_path</th>\n",
       "    </tr>\n",
       "  </thead>\n",
       "  <tbody>\n",
       "    <tr>\n",
       "      <th>0</th>\n",
       "      <td>cax_antman_train1.jpg</td>\n",
       "      <td>216</td>\n",
       "      <td>233</td>\n",
       "      <td>0.927039</td>\n",
       "      <td>3</td>\n",
       "      <td>ant_man</td>\n",
       "      <td>data/CAX_Superhero_Train/Ant-Man\\cax_antman_tr...</td>\n",
       "    </tr>\n",
       "    <tr>\n",
       "      <th>1</th>\n",
       "      <td>cax_antman_train10.jpg</td>\n",
       "      <td>230</td>\n",
       "      <td>210</td>\n",
       "      <td>1.095238</td>\n",
       "      <td>3</td>\n",
       "      <td>ant_man</td>\n",
       "      <td>data/CAX_Superhero_Train/Ant-Man\\cax_antman_tr...</td>\n",
       "    </tr>\n",
       "    <tr>\n",
       "      <th>2</th>\n",
       "      <td>cax_antman_train100.jpg</td>\n",
       "      <td>225</td>\n",
       "      <td>225</td>\n",
       "      <td>1.000000</td>\n",
       "      <td>3</td>\n",
       "      <td>ant_man</td>\n",
       "      <td>data/CAX_Superhero_Train/Ant-Man\\cax_antman_tr...</td>\n",
       "    </tr>\n",
       "    <tr>\n",
       "      <th>3</th>\n",
       "      <td>cax_antman_train101.jpg</td>\n",
       "      <td>251</td>\n",
       "      <td>201</td>\n",
       "      <td>1.248756</td>\n",
       "      <td>3</td>\n",
       "      <td>ant_man</td>\n",
       "      <td>data/CAX_Superhero_Train/Ant-Man\\cax_antman_tr...</td>\n",
       "    </tr>\n",
       "    <tr>\n",
       "      <th>4</th>\n",
       "      <td>cax_antman_train102.jpg</td>\n",
       "      <td>225</td>\n",
       "      <td>225</td>\n",
       "      <td>1.000000</td>\n",
       "      <td>3</td>\n",
       "      <td>ant_man</td>\n",
       "      <td>data/CAX_Superhero_Train/Ant-Man\\cax_antman_tr...</td>\n",
       "    </tr>\n",
       "  </tbody>\n",
       "</table>\n",
       "</div>"
      ],
      "text/plain": [
       "                  img_name  img_height  img_width  img_ratio  num_channels  \\\n",
       "0    cax_antman_train1.jpg         216        233   0.927039             3   \n",
       "1   cax_antman_train10.jpg         230        210   1.095238             3   \n",
       "2  cax_antman_train100.jpg         225        225   1.000000             3   \n",
       "3  cax_antman_train101.jpg         251        201   1.248756             3   \n",
       "4  cax_antman_train102.jpg         225        225   1.000000             3   \n",
       "\n",
       "  superhero                                           img_path  \n",
       "0   ant_man  data/CAX_Superhero_Train/Ant-Man\\cax_antman_tr...  \n",
       "1   ant_man  data/CAX_Superhero_Train/Ant-Man\\cax_antman_tr...  \n",
       "2   ant_man  data/CAX_Superhero_Train/Ant-Man\\cax_antman_tr...  \n",
       "3   ant_man  data/CAX_Superhero_Train/Ant-Man\\cax_antman_tr...  \n",
       "4   ant_man  data/CAX_Superhero_Train/Ant-Man\\cax_antman_tr...  "
      ]
     },
     "execution_count": 3,
     "metadata": {},
     "output_type": "execute_result"
    }
   ],
   "source": [
    "train_df.head()"
   ]
  },
  {
   "cell_type": "code",
   "execution_count": 4,
   "metadata": {},
   "outputs": [
    {
     "data": {
      "text/plain": [
       "<Container object of 12 artists>"
      ]
     },
     "execution_count": 4,
     "metadata": {},
     "output_type": "execute_result"
    },
    {
     "data": {
      "image/png": "[encoded data removed]",
      "text/plain": [
       "<matplotlib.figure.Figure at 0x26a367e5ac8>"
      ]
     },
     "metadata": {},
     "output_type": "display_data"
    }
   ],
   "source": [
    "plt.barh(train_df['superhero'].value_counts().index,train_df['superhero'].value_counts().values)"
   ]
  },
  {
   "cell_type": "code",
   "execution_count": 5,
   "metadata": {
    "collapsed": true
   },
   "outputs": [],
   "source": [
    "labelencoder = LabelEncoder()\n",
    "\n",
    "x_train_df = train_df['img_path'].values\n",
    "y_train_df = train_df['superhero'].values\n",
    "y_train_df = labelencoder.fit_transform(y_train_df)\n",
    "x_test_df = test_df['img_path'].values"
   ]
  },
  {
   "cell_type": "code",
   "execution_count": 6,
   "metadata": {
    "collapsed": true
   },
   "outputs": [],
   "source": [
    "x_train, x_valid, y_train, y_valid = train_test_split(x_train_df, y_train_df, test_size=0.2, random_state=42, \n",
    "                                                      shuffle=True, stratify=y_train_df)\n",
    "x_test = x_test_df\n",
    "y_test = np.zeros_like(x_test)"
   ]
  },
  {
   "cell_type": "code",
   "execution_count": 7,
   "metadata": {
    "collapsed": true
   },
   "outputs": [],
   "source": [
    "class SuperheroesDataset(Dataset):\n",
    "    def __init__(self, x, y=None, transform=None):\n",
    "        self.transform = transform\n",
    "        self.x = x\n",
    "        self.y = y\n",
    "        \n",
    "    def __len__(self):\n",
    "        return len(self.x)\n",
    "    \n",
    "    def __getitem__(self, idx):\n",
    "        img = Image.open(self.x[idx])\n",
    "        img = img.convert('RGB')\n",
    "        if self.transform is not None:\n",
    "            img = self.transform(img)           \n",
    "        label = self.y[idx]\n",
    "        out = (img, label)\n",
    "        return out"
   ]
  },
  {
   "cell_type": "code",
   "execution_count": 8,
   "metadata": {
    "collapsed": true
   },
   "outputs": [],
   "source": [
    "transform_data = transforms.Compose([transforms.Resize(224),transforms.CenterCrop(224),transforms.ToTensor()])"
   ]
  },
  {
   "cell_type": "code",
   "execution_count": 9,
   "metadata": {},
   "outputs": [
    {
     "data": {
      "text/plain": [
       "True"
      ]
     },
     "execution_count": 9,
     "metadata": {},
     "output_type": "execute_result"
    }
   ],
   "source": [
    "use_gpu = torch.cuda.is_available()\n",
    "use_gpu"
   ]
  },
  {
   "cell_type": "code",
   "execution_count": 10,
   "metadata": {
    "collapsed": true
   },
   "outputs": [],
   "source": [
    "train_set = SuperheroesDataset(x_train, y_train, transform_data)\n",
    "train_load = DataLoader(train_set,batch_size=64)"
   ]
  },
  {
   "cell_type": "code",
   "execution_count": 11,
   "metadata": {
    "collapsed": true
   },
   "outputs": [],
   "source": [
    "valid_set = SuperheroesDataset(x_valid, y_valid, transform_data)\n",
    "valid_load = DataLoader(valid_set,batch_size=64)"
   ]
  },
  {
   "cell_type": "code",
   "execution_count": 12,
   "metadata": {
    "collapsed": true
   },
   "outputs": [],
   "source": [
    "test_set = SuperheroesDataset(x_test, y_test, transform_data)\n",
    "test_load = DataLoader(test_set,batch_size=1)"
   ]
  },
  {
   "cell_type": "code",
   "execution_count": 13,
   "metadata": {
    "collapsed": true
   },
   "outputs": [],
   "source": [
    "image_datasets = {'train':train_set, 'val':valid_set}\n",
    "dataloaders    = {'train':train_load, 'val':valid_load}\n",
    "dataset_sizes  = {'train':len(train_set), 'val':len(valid_set)}"
   ]
  },
  {
   "cell_type": "code",
   "execution_count": 14,
   "metadata": {
    "collapsed": true
   },
   "outputs": [],
   "source": [
    "def train_model(model, criterion, optimizer, scheduler, num_epochs=2):\n",
    "    since = time()\n",
    "\n",
    "    best_model_wts = copy.deepcopy(model.state_dict())\n",
    "    best_acc = 0.0\n",
    "\n",
    "    for epoch in range(num_epochs):\n",
    "        print('Epoch {}/{}'.format(epoch, num_epochs - 1))\n",
    "        print('-' * 10)\n",
    "\n",
    "        # Each epoch has a training and validation phase\n",
    "        for phase in ['train', 'val']:\n",
    "            if phase == 'train':\n",
    "                scheduler.step()\n",
    "                model.train(True)  # Set model to training mode\n",
    "            else:\n",
    "                model.train(False)  # Set model to evaluate mode\n",
    "\n",
    "            running_loss = 0.0\n",
    "            running_corrects = 0\n",
    "\n",
    "            # Iterate over data.\n",
    "            for data in dataloaders[phase]:\n",
    "                # get the inputs\n",
    "                inputs, labels = data\n",
    "\n",
    "                # wrap them in Variable\n",
    "                if use_gpu:\n",
    "                    inputs = Variable(inputs.cuda())\n",
    "                    labels = Variable(labels.cuda())\n",
    "                else:\n",
    "                    inputs, labels = Variable(inputs), Variable(labels)\n",
    "\n",
    "                # zero the parameter gradients\n",
    "                optimizer.zero_grad()\n",
    "\n",
    "                # forward\n",
    "                outputs = model(inputs)\n",
    "                _, preds = torch.max(outputs.data, 1)\n",
    "                loss = criterion(outputs, labels)\n",
    "\n",
    "                # backward + optimize only if in training phase\n",
    "                if phase == 'train':\n",
    "                    loss.backward()\n",
    "                    optimizer.step()\n",
    "\n",
    "                # statistics\n",
    "                running_loss += loss.data[0] * inputs.size(0)\n",
    "                running_corrects += torch.sum(preds == labels.data)\n",
    "\n",
    "            epoch_loss = running_loss / dataset_sizes[phase]\n",
    "            epoch_acc = running_corrects / dataset_sizes[phase]\n",
    "\n",
    "            print('{} Loss: {:.4f} Acc: {:.4f}'.format(\n",
    "                phase, epoch_loss, epoch_acc))\n",
    "\n",
    "            # deep copy the model\n",
    "            if phase == 'val' and epoch_acc > best_acc:\n",
    "                best_acc = epoch_acc\n",
    "                best_model_wts = copy.deepcopy(model.state_dict())\n",
    "\n",
    "        print()\n",
    "\n",
    "    time_elapsed = time() - since\n",
    "    print('Training complete in {:.0f}m {:.0f}s'.format(\n",
    "        time_elapsed // 60, time_elapsed % 60))\n",
    "    print('Best val Acc: {:4f}'.format(best_acc))\n",
    "\n",
    "    # load best model weights\n",
    "    model.load_state_dict(best_model_wts)\n",
    "    return model"
   ]
  },
  {
   "cell_type": "code",
   "execution_count": 29,
   "metadata": {
    "collapsed": true
   },
   "outputs": [],
   "source": [
    "model_ft = models.resnet18(pretrained=True)\n",
    "num_ftrs = model_ft.fc.in_features\n",
    "model_ft.fc = nn.Linear(num_ftrs, 12)\n",
    "\n",
    "if use_gpu:\n",
    "    model_ft = model_ft.cuda()\n",
    "\n",
    "criterion = nn.CrossEntropyLoss()\n",
    "\n",
    "# Observe that all parameters are being optimized\n",
    "optimizer_ft = optim.SGD(model_ft.parameters(), lr=0.001, momentum=0.9)\n",
    "\n",
    "# Decay LR by a factor of 0.1 every 7 epochs\n",
    "exp_lr_scheduler = lr_scheduler.StepLR(optimizer_ft, step_size=7, gamma=0.1)"
   ]
  },
  {
   "cell_type": "code",
   "execution_count": 15,
   "metadata": {
    "collapsed": true
   },
   "outputs": [],
   "source": [
    "# This is a little utility that we'll use to reset the model if we want to re-initialize all our parameters\n",
    "def reset(m):\n",
    "    if hasattr(m, 'reset_parameters'):\n",
    "        m.reset_parameters()"
   ]
  },
  {
   "cell_type": "code",
   "execution_count": 33,
   "metadata": {
    "scrolled": true
   },
   "outputs": [
    {
     "name": "stdout",
     "output_type": "stream",
     "text": [
      "Epoch 0/24\n",
      "----------\n",
      "train Loss: 2.2118 Acc: 0.2384\n",
      "val Loss: 1.9643 Acc: 0.3275\n",
      "\n",
      "Epoch 1/24\n",
      "----------\n",
      "train Loss: 1.8420 Acc: 0.4017\n",
      "val Loss: 1.8499 Acc: 0.4039\n",
      "\n",
      "Epoch 2/24\n",
      "----------\n",
      "train Loss: 1.6485 Acc: 0.4680\n",
      "val Loss: 1.6749 Acc: 0.4655\n",
      "\n",
      "Epoch 3/24\n",
      "----------\n",
      "train Loss: 1.5204 Acc: 0.5055\n",
      "val Loss: 1.5150 Acc: 0.4977\n",
      "\n",
      "Epoch 4/24\n",
      "----------\n",
      "train Loss: 1.4288 Acc: 0.5320\n",
      "val Loss: 1.5654 Acc: 0.5097\n",
      "\n",
      "Epoch 5/24\n",
      "----------\n",
      "train Loss: 1.2924 Acc: 0.5812\n",
      "val Loss: 1.3275 Acc: 0.5731\n",
      "\n",
      "Epoch 6/24\n",
      "----------\n",
      "train Loss: 1.2462 Acc: 0.5966\n",
      "val Loss: 1.3112 Acc: 0.5777\n",
      "\n",
      "Epoch 7/24\n",
      "----------\n",
      "train Loss: 1.2202 Acc: 0.6049\n",
      "val Loss: 1.3016 Acc: 0.5823\n",
      "\n",
      "Epoch 8/24\n",
      "----------\n",
      "train Loss: 1.1969 Acc: 0.6134\n",
      "val Loss: 1.2927 Acc: 0.5833\n",
      "\n",
      "Epoch 9/24\n",
      "----------\n",
      "train Loss: 1.1745 Acc: 0.6217\n",
      "val Loss: 1.2852 Acc: 0.5842\n",
      "\n",
      "Epoch 10/24\n",
      "----------\n",
      "train Loss: 1.1522 Acc: 0.6307\n",
      "val Loss: 1.2801 Acc: 0.5851\n",
      "\n",
      "Epoch 11/24\n",
      "----------\n",
      "train Loss: 1.1299 Acc: 0.6387\n",
      "val Loss: 1.2751 Acc: 0.5879\n",
      "\n",
      "Epoch 12/24\n",
      "----------\n",
      "train Loss: 1.1035 Acc: 0.6470\n",
      "val Loss: 1.2472 Acc: 0.6007\n",
      "\n",
      "Epoch 13/24\n",
      "----------\n",
      "train Loss: 1.0955 Acc: 0.6512\n",
      "val Loss: 1.2441 Acc: 0.6044\n",
      "\n",
      "Epoch 14/24\n",
      "----------\n",
      "train Loss: 1.0918 Acc: 0.6526\n",
      "val Loss: 1.2423 Acc: 0.6017\n",
      "\n",
      "Epoch 15/24\n",
      "----------\n",
      "train Loss: 1.0887 Acc: 0.6523\n",
      "val Loss: 1.2409 Acc: 0.6026\n",
      "\n",
      "Epoch 16/24\n",
      "----------\n",
      "train Loss: 1.0857 Acc: 0.6539\n",
      "val Loss: 1.2397 Acc: 0.6026\n",
      "\n",
      "Epoch 17/24\n",
      "----------\n",
      "train Loss: 1.0829 Acc: 0.6549\n",
      "val Loss: 1.2387 Acc: 0.6035\n",
      "\n",
      "Epoch 18/24\n",
      "----------\n",
      "train Loss: 1.0800 Acc: 0.6562\n",
      "val Loss: 1.2377 Acc: 0.6053\n",
      "\n",
      "Epoch 19/24\n",
      "----------\n",
      "train Loss: 1.0746 Acc: 0.6604\n",
      "val Loss: 1.2374 Acc: 0.6035\n",
      "\n",
      "Epoch 20/24\n",
      "----------\n",
      "train Loss: 1.0742 Acc: 0.6604\n",
      "val Loss: 1.2373 Acc: 0.6035\n",
      "\n",
      "Epoch 21/24\n",
      "----------\n",
      "train Loss: 1.0739 Acc: 0.6601\n",
      "val Loss: 1.2372 Acc: 0.6035\n",
      "\n",
      "Epoch 22/24\n",
      "----------\n",
      "train Loss: 1.0735 Acc: 0.6604\n",
      "val Loss: 1.2371 Acc: 0.6035\n",
      "\n",
      "Epoch 23/24\n",
      "----------\n",
      "train Loss: 1.0732 Acc: 0.6608\n",
      "val Loss: 1.2369 Acc: 0.6035\n",
      "\n",
      "Epoch 24/24\n",
      "----------\n",
      "train Loss: 1.0729 Acc: 0.6611\n",
      "val Loss: 1.2368 Acc: 0.6044\n",
      "\n",
      "Training complete in 10m 16s\n",
      "Best val Acc: 0.605336\n"
     ]
    }
   ],
   "source": [
    "torch.random.manual_seed(12345)\n",
    "model_ft.apply(reset)\n",
    "model_ft = train_model(model_ft, criterion, optimizer_ft, exp_lr_scheduler, num_epochs=25)"
   ]
  },
  {
   "cell_type": "code",
   "execution_count": 37,
   "metadata": {
    "collapsed": true
   },
   "outputs": [],
   "source": [
    "torch.save(model_ft, 'model_ft')"
   ]
  },
  {
   "cell_type": "code",
   "execution_count": 16,
   "metadata": {
    "collapsed": true
   },
   "outputs": [],
   "source": [
    "def imshow(inp, title=None):\n",
    "    \"\"\"Imshow for Tensor.\"\"\"\n",
    "    inp = inp.numpy().transpose((1, 2, 0))\n",
    "    plt.imshow(inp)\n",
    "    if title is not None:\n",
    "        plt.title(title)\n",
    "    plt.pause(0.001)  # pause a bit so that plots are updated\n",
    "\n",
    "def visualize_model(model, num_images=6):\n",
    "    was_training = model.training\n",
    "    model.eval()\n",
    "    images_so_far = 0\n",
    "    fig = plt.figure()\n",
    "\n",
    "    for i, data in enumerate(dataloaders['val']):\n",
    "        inputs, labels = data\n",
    "        if use_gpu:\n",
    "            inputs, labels = Variable(inputs.cuda()), Variable(labels.cuda())\n",
    "        else:\n",
    "            inputs, labels = Variable(inputs), Variable(labels)\n",
    "\n",
    "        outputs = model(inputs)\n",
    "        _, preds = torch.max(outputs.data, 1)\n",
    "\n",
    "        for j in range(inputs.size()[0]):\n",
    "            images_so_far += 1\n",
    "            ax = plt.subplot(num_images//2, 2, images_so_far)\n",
    "            ax.axis('off')\n",
    "            ax.set_title('predicted: {}'.format(labelencoder_dic[preds[j]]))\n",
    "            imshow(inputs.cpu().data[j])\n",
    "\n",
    "            if images_so_far == num_images:\n",
    "                model.train(mode=was_training)\n",
    "                return\n",
    "    model.train(mode=was_training)"
   ]
  },
  {
   "cell_type": "code",
   "execution_count": 43,
   "metadata": {},
   "outputs": [
    {
     "data": {
      "image/png": "[encoded data removed]",
      "text/plain": [
       "<matplotlib.figure.Figure at 0x1d5a4225048>"
      ]
     },
     "metadata": {},
     "output_type": "display_data"
    },
    {
     "data": {
      "image/png": "[encoded data removed]",
      "text/plain": [
       "<matplotlib.figure.Figure at 0x1d5a4210898>"
      ]
     },
     "metadata": {},
     "output_type": "display_data"
    },
    {
     "data": {
      "image/png": "[encoded data removed]",
      "text/plain": [
       "<matplotlib.figure.Figure at 0x1d589843eb8>"
      ]
     },
     "metadata": {},
     "output_type": "display_data"
    },
    {
     "data": {
      "image/png": "[encoded data removed]",
      "text/plain": [
       "<matplotlib.figure.Figure at 0x1d5898664e0>"
      ]
     },
     "metadata": {},
     "output_type": "display_data"
    },
    {
     "data": {
      "image/png": "[encoded data removed]",
      "text/plain": [
       "<matplotlib.figure.Figure at 0x1d5896842e8>"
      ]
     },
     "metadata": {},
     "output_type": "display_data"
    },
    {
     "data": {
      "image/png": "[encoded data removed]",
      "text/plain": [
       "<matplotlib.figure.Figure at 0x1d5957b6400>"
      ]
     },
     "metadata": {},
     "output_type": "display_data"
    }
   ],
   "source": [
    "visualize_model(model_ft)"
   ]
  },
  {
   "cell_type": "markdown",
   "metadata": {},
   "source": [
    "#### ConvNet as fixed feature extractor\n",
    "Here, we need to freeze all the network except the final layer. We need to set requires_grad == False to freeze the parameters so that the gradients are not computed in backward()."
   ]
  },
  {
   "cell_type": "code",
   "execution_count": 46,
   "metadata": {
    "collapsed": true
   },
   "outputs": [],
   "source": [
    "model_conv = torchvision.models.resnet18(pretrained=True)\n",
    "for param in model_conv.parameters():\n",
    "    param.requires_grad = False\n",
    "\n",
    "# Parameters of newly constructed modules have requires_grad=True by default\n",
    "num_ftrs = model_conv.fc.in_features\n",
    "model_conv.fc = nn.Linear(num_ftrs, 12)\n",
    "\n",
    "if use_gpu:\n",
    "    model_conv = model_conv.cuda()\n",
    "\n",
    "criterion = nn.CrossEntropyLoss()\n",
    "\n",
    "# Observe that only parameters of final layer are being optimized as\n",
    "# opoosed to before.\n",
    "optimizer_conv = optim.SGD(model_conv.fc.parameters(), lr=0.001, momentum=0.9)\n",
    "\n",
    "# Decay LR by a factor of 0.1 every 7 epochs\n",
    "exp_lr_scheduler = lr_scheduler.StepLR(optimizer_conv, step_size=7, gamma=0.1)"
   ]
  },
  {
   "cell_type": "code",
   "execution_count": 47,
   "metadata": {},
   "outputs": [
    {
     "name": "stdout",
     "output_type": "stream",
     "text": [
      "Epoch 0/24\n",
      "----------\n",
      "train Loss: 2.2218 Acc: 0.2609\n",
      "val Loss: 1.9052 Acc: 0.4085\n",
      "\n",
      "Epoch 1/24\n",
      "----------\n",
      "train Loss: 1.7560 Acc: 0.4581\n",
      "val Loss: 1.6328 Acc: 0.4959\n",
      "\n",
      "Epoch 2/24\n",
      "----------\n",
      "train Loss: 1.5422 Acc: 0.5290\n",
      "val Loss: 1.4891 Acc: 0.5428\n",
      "\n",
      "Epoch 3/24\n",
      "----------\n",
      "train Loss: 1.4138 Acc: 0.5699\n",
      "val Loss: 1.3989 Acc: 0.5667\n",
      "\n",
      "Epoch 4/24\n",
      "----------\n",
      "train Loss: 1.3254 Acc: 0.5946\n",
      "val Loss: 1.3365 Acc: 0.5888\n",
      "\n",
      "Epoch 5/24\n",
      "----------\n",
      "train Loss: 1.2596 Acc: 0.6091\n",
      "val Loss: 1.2907 Acc: 0.6044\n",
      "\n",
      "Epoch 6/24\n",
      "----------\n",
      "train Loss: 1.2079 Acc: 0.6243\n",
      "val Loss: 1.2554 Acc: 0.6127\n",
      "\n",
      "Epoch 7/24\n",
      "----------\n",
      "train Loss: 1.1704 Acc: 0.6385\n",
      "val Loss: 1.2362 Acc: 0.6237\n",
      "\n",
      "Epoch 8/24\n",
      "----------\n",
      "train Loss: 1.1609 Acc: 0.6429\n",
      "val Loss: 1.2327 Acc: 0.6283\n",
      "\n",
      "Epoch 9/24\n",
      "----------\n",
      "train Loss: 1.1568 Acc: 0.6434\n",
      "val Loss: 1.2298 Acc: 0.6293\n",
      "\n",
      "Epoch 10/24\n",
      "----------\n",
      "train Loss: 1.1529 Acc: 0.6447\n",
      "val Loss: 1.2269 Acc: 0.6311\n",
      "\n",
      "Epoch 11/24\n",
      "----------\n",
      "train Loss: 1.1491 Acc: 0.6473\n",
      "val Loss: 1.2242 Acc: 0.6320\n",
      "\n",
      "Epoch 12/24\n",
      "----------\n",
      "train Loss: 1.1454 Acc: 0.6484\n",
      "val Loss: 1.2214 Acc: 0.6320\n",
      "\n",
      "Epoch 13/24\n",
      "----------\n",
      "train Loss: 1.1417 Acc: 0.6507\n",
      "val Loss: 1.2188 Acc: 0.6329\n",
      "\n",
      "Epoch 14/24\n",
      "----------\n",
      "train Loss: 1.1377 Acc: 0.6507\n",
      "val Loss: 1.2185 Acc: 0.6311\n",
      "\n",
      "Epoch 15/24\n",
      "----------\n",
      "train Loss: 1.1373 Acc: 0.6509\n",
      "val Loss: 1.2182 Acc: 0.6311\n",
      "\n",
      "Epoch 16/24\n",
      "----------\n",
      "train Loss: 1.1370 Acc: 0.6516\n",
      "val Loss: 1.2179 Acc: 0.6329\n",
      "\n",
      "Epoch 17/24\n",
      "----------\n",
      "train Loss: 1.1366 Acc: 0.6519\n",
      "val Loss: 1.2176 Acc: 0.6339\n",
      "\n",
      "Epoch 18/24\n",
      "----------\n",
      "train Loss: 1.1362 Acc: 0.6526\n",
      "val Loss: 1.2173 Acc: 0.6339\n",
      "\n",
      "Epoch 19/24\n",
      "----------\n",
      "train Loss: 1.1359 Acc: 0.6526\n",
      "val Loss: 1.2171 Acc: 0.6339\n",
      "\n",
      "Epoch 20/24\n",
      "----------\n",
      "train Loss: 1.1355 Acc: 0.6528\n",
      "val Loss: 1.2168 Acc: 0.6339\n",
      "\n",
      "Epoch 21/24\n",
      "----------\n",
      "train Loss: 1.1351 Acc: 0.6537\n",
      "val Loss: 1.2168 Acc: 0.6339\n",
      "\n",
      "Epoch 22/24\n",
      "----------\n",
      "train Loss: 1.1351 Acc: 0.6537\n",
      "val Loss: 1.2168 Acc: 0.6339\n",
      "\n",
      "Epoch 23/24\n",
      "----------\n",
      "train Loss: 1.1350 Acc: 0.6537\n",
      "val Loss: 1.2167 Acc: 0.6339\n",
      "\n",
      "Epoch 24/24\n",
      "----------\n",
      "train Loss: 1.1350 Acc: 0.6539\n",
      "val Loss: 1.2167 Acc: 0.6339\n",
      "\n",
      "Training complete in 6m 39s\n",
      "Best val Acc: 0.633855\n"
     ]
    }
   ],
   "source": [
    "model_conv = train_model(model_conv, criterion, optimizer_conv,\n",
    "                         exp_lr_scheduler, num_epochs=25)"
   ]
  },
  {
   "cell_type": "code",
   "execution_count": 48,
   "metadata": {
    "collapsed": true
   },
   "outputs": [],
   "source": [
    "torch.save(model_ft, 'model_conv')"
   ]
  },
  {
   "cell_type": "code",
   "execution_count": 49,
   "metadata": {},
   "outputs": [
    {
     "data": {
      "image/png": "[encoded data removed]",
      "text/plain": [
       "<matplotlib.figure.Figure at 0x1d5a6f78780>"
      ]
     },
     "metadata": {},
     "output_type": "display_data"
    },
    {
     "data": {
      "image/png": "[encoded data removed]",
      "text/plain": [
       "<matplotlib.figure.Figure at 0x1d5ae04b0f0>"
      ]
     },
     "metadata": {},
     "output_type": "display_data"
    },
    {
     "data": {
      "image/png": "[encoded data removed]",
      "text/plain": [
       "<matplotlib.figure.Figure at 0x1d5898a16d8>"
      ]
     },
     "metadata": {},
     "output_type": "display_data"
    },
    {
     "data": {
      "image/png": "[encoded data removed]",
      "text/plain": [
       "<matplotlib.figure.Figure at 0x1d5b02072b0>"
      ]
     },
     "metadata": {},
     "output_type": "display_data"
    },
    {
     "data": {
      "image/png": "[encoded data removed]",
      "text/plain": [
       "<matplotlib.figure.Figure at 0x1d5ae0b6080>"
      ]
     },
     "metadata": {},
     "output_type": "display_data"
    },
    {
     "data": {
      "image/png": "[encoded data removed]",
      "text/plain": [
       "<matplotlib.figure.Figure at 0x1d5958047b8>"
      ]
     },
     "metadata": {},
     "output_type": "display_data"
    }
   ],
   "source": [
    "visualize_model(model_conv)\n",
    "\n",
    "plt.ioff()\n",
    "plt.show()"
   ]
  },
  {
   "cell_type": "code",
   "execution_count": 17,
   "metadata": {
    "collapsed": true
   },
   "outputs": [],
   "source": [
    "model_conv = torch.load('model_conv')"
   ]
  },
  {
   "cell_type": "code",
   "execution_count": 18,
   "metadata": {
    "collapsed": true
   },
   "outputs": [],
   "source": [
    "def predict(test_loader, model):\n",
    "    model.eval()       #Sets the module in evaluation mode\n",
    "    predictions = []\n",
    "    \n",
    "    for i, data in enumerate(tqdm(test_loader)):\n",
    "        inputs, _ = data\n",
    "        if use_gpu:\n",
    "            inputs = Variable(inputs.cuda())\n",
    "        else:\n",
    "            inputs = Variable(inputs)\n",
    "            \n",
    "        outputs = model(inputs)\n",
    "        _, preds = torch.max(outputs.data, 1)\n",
    "        #preds = preds.cpu().numpy()[0]           #convert from tensor to numpy and get 1 number \n",
    "        predictions.append(preds[0])\n",
    "        \n",
    "    return predictions"
   ]
  },
  {
   "cell_type": "code",
   "execution_count": 19,
   "metadata": {},
   "outputs": [
    {
     "name": "stderr",
     "output_type": "stream",
     "text": [
      "100%|█████████████████████████████████████████████████████████████████████████████| 3375/3375 [00:32<00:00, 104.66it/s]\n"
     ]
    }
   ],
   "source": [
    "predictions = predict(test_load, model_conv)"
   ]
  },
  {
   "cell_type": "code",
   "execution_count": 20,
   "metadata": {},
   "outputs": [
    {
     "data": {
      "text/plain": [
       "[10, 11, 10, 10, 4]"
      ]
     },
     "execution_count": 20,
     "metadata": {},
     "output_type": "execute_result"
    }
   ],
   "source": [
    "predictions[:5]"
   ]
  },
  {
   "cell_type": "code",
   "execution_count": 174,
   "metadata": {},
   "outputs": [
    {
     "data": {
      "text/plain": [
       "{0: 'ant_man',\n",
       " 1: 'aqua_man',\n",
       " 2: 'avengers',\n",
       " 3: 'bat_man',\n",
       " 4: 'black_panther',\n",
       " 5: 'captain_america',\n",
       " 6: 'cat_woman',\n",
       " 7: 'ghostrider',\n",
       " 8: 'hulk',\n",
       " 9: 'iron_man',\n",
       " 10: 'spider_man',\n",
       " 11: 'super_man'}"
      ]
     },
     "execution_count": 174,
     "metadata": {},
     "output_type": "execute_result"
    }
   ],
   "source": [
    "labelencoder_dic"
   ]
  },
  {
   "cell_type": "code",
   "execution_count": 21,
   "metadata": {
    "collapsed": true
   },
   "outputs": [],
   "source": [
    "d = {'filename': test_df['img_name'], 'Superhero': predictions}"
   ]
  },
  {
   "cell_type": "code",
   "execution_count": 22,
   "metadata": {
    "collapsed": true
   },
   "outputs": [],
   "source": [
    "predict_df = pd.DataFrame(d)"
   ]
  },
  {
   "cell_type": "code",
   "execution_count": 23,
   "metadata": {
    "collapsed": true
   },
   "outputs": [],
   "source": [
    "predict_df = predict_df[['filename', 'Superhero']]"
   ]
  },
  {
   "cell_type": "code",
   "execution_count": 24,
   "metadata": {},
   "outputs": [
    {
     "data": {
      "text/html": [
       "<div>\n",
       "<style>\n",
       "    .dataframe thead tr:only-child th {\n",
       "        text-align: right;\n",
       "    }\n",
       "\n",
       "    .dataframe thead th {\n",
       "        text-align: left;\n",
       "    }\n",
       "\n",
       "    .dataframe tbody tr th {\n",
       "        vertical-align: top;\n",
       "    }\n",
       "</style>\n",
       "<table border=\"1\" class=\"dataframe\">\n",
       "  <thead>\n",
       "    <tr style=\"text-align: right;\">\n",
       "      <th></th>\n",
       "      <th>filename</th>\n",
       "      <th>Superhero</th>\n",
       "    </tr>\n",
       "  </thead>\n",
       "  <tbody>\n",
       "    <tr>\n",
       "      <th>0</th>\n",
       "      <td>superhero_test_1.jpg</td>\n",
       "      <td>10</td>\n",
       "    </tr>\n",
       "    <tr>\n",
       "      <th>1</th>\n",
       "      <td>superhero_test_10.jpg</td>\n",
       "      <td>11</td>\n",
       "    </tr>\n",
       "    <tr>\n",
       "      <th>2</th>\n",
       "      <td>superhero_test_100.jpg</td>\n",
       "      <td>10</td>\n",
       "    </tr>\n",
       "    <tr>\n",
       "      <th>3</th>\n",
       "      <td>superhero_test_1000.jpg</td>\n",
       "      <td>10</td>\n",
       "    </tr>\n",
       "    <tr>\n",
       "      <th>4</th>\n",
       "      <td>superhero_test_1001.jpg</td>\n",
       "      <td>4</td>\n",
       "    </tr>\n",
       "  </tbody>\n",
       "</table>\n",
       "</div>"
      ],
      "text/plain": [
       "                  filename  Superhero\n",
       "0     superhero_test_1.jpg         10\n",
       "1    superhero_test_10.jpg         11\n",
       "2   superhero_test_100.jpg         10\n",
       "3  superhero_test_1000.jpg         10\n",
       "4  superhero_test_1001.jpg          4"
      ]
     },
     "execution_count": 24,
     "metadata": {},
     "output_type": "execute_result"
    }
   ],
   "source": [
    "predict_df.head()"
   ]
  },
  {
   "cell_type": "code",
   "execution_count": 25,
   "metadata": {
    "collapsed": true
   },
   "outputs": [],
   "source": [
    "predict_df['filename'] = predict_df['filename'].map(lambda x: str(x)[:-4])"
   ]
  },
  {
   "cell_type": "code",
   "execution_count": 26,
   "metadata": {
    "collapsed": true
   },
   "outputs": [],
   "source": [
    "predict_df.replace({\"Superhero\": labelencoder_dic}, inplace=True)"
   ]
  },
  {
   "cell_type": "code",
   "execution_count": 27,
   "metadata": {},
   "outputs": [
    {
     "data": {
      "text/html": [
       "<div>\n",
       "<style>\n",
       "    .dataframe thead tr:only-child th {\n",
       "        text-align: right;\n",
       "    }\n",
       "\n",
       "    .dataframe thead th {\n",
       "        text-align: left;\n",
       "    }\n",
       "\n",
       "    .dataframe tbody tr th {\n",
       "        vertical-align: top;\n",
       "    }\n",
       "</style>\n",
       "<table border=\"1\" class=\"dataframe\">\n",
       "  <thead>\n",
       "    <tr style=\"text-align: right;\">\n",
       "      <th></th>\n",
       "      <th>filename</th>\n",
       "      <th>Superhero</th>\n",
       "    </tr>\n",
       "  </thead>\n",
       "  <tbody>\n",
       "    <tr>\n",
       "      <th>0</th>\n",
       "      <td>superhero_test_1</td>\n",
       "      <td>spider_man</td>\n",
       "    </tr>\n",
       "    <tr>\n",
       "      <th>1</th>\n",
       "      <td>superhero_test_10</td>\n",
       "      <td>super_man</td>\n",
       "    </tr>\n",
       "    <tr>\n",
       "      <th>2</th>\n",
       "      <td>superhero_test_100</td>\n",
       "      <td>spider_man</td>\n",
       "    </tr>\n",
       "    <tr>\n",
       "      <th>3</th>\n",
       "      <td>superhero_test_1000</td>\n",
       "      <td>spider_man</td>\n",
       "    </tr>\n",
       "    <tr>\n",
       "      <th>4</th>\n",
       "      <td>superhero_test_1001</td>\n",
       "      <td>black_panther</td>\n",
       "    </tr>\n",
       "  </tbody>\n",
       "</table>\n",
       "</div>"
      ],
      "text/plain": [
       "              filename      Superhero\n",
       "0     superhero_test_1     spider_man\n",
       "1    superhero_test_10      super_man\n",
       "2   superhero_test_100     spider_man\n",
       "3  superhero_test_1000     spider_man\n",
       "4  superhero_test_1001  black_panther"
      ]
     },
     "execution_count": 27,
     "metadata": {},
     "output_type": "execute_result"
    }
   ],
   "source": [
    "predict_df.head()"
   ]
  },
  {
   "cell_type": "code",
   "execution_count": 49,
   "metadata": {
    "collapsed": true
   },
   "outputs": [],
   "source": [
    "submission = pd.read_csv('data/Superhero_3375_SampleSubmission.csv')"
   ]
  },
  {
   "cell_type": "code",
   "execution_count": 51,
   "metadata": {},
   "outputs": [
    {
     "data": {
      "text/html": [
       "<div>\n",
       "<style>\n",
       "    .dataframe thead tr:only-child th {\n",
       "        text-align: right;\n",
       "    }\n",
       "\n",
       "    .dataframe thead th {\n",
       "        text-align: left;\n",
       "    }\n",
       "\n",
       "    .dataframe tbody tr th {\n",
       "        vertical-align: top;\n",
       "    }\n",
       "</style>\n",
       "<table border=\"1\" class=\"dataframe\">\n",
       "  <thead>\n",
       "    <tr style=\"text-align: right;\">\n",
       "      <th></th>\n",
       "      <th>filename</th>\n",
       "      <th>Superhero</th>\n",
       "    </tr>\n",
       "  </thead>\n",
       "  <tbody>\n",
       "    <tr>\n",
       "      <th>0</th>\n",
       "      <td>superhero_test_1</td>\n",
       "      <td>ant_man</td>\n",
       "    </tr>\n",
       "    <tr>\n",
       "      <th>1</th>\n",
       "      <td>superhero_test_2</td>\n",
       "      <td>super_man</td>\n",
       "    </tr>\n",
       "    <tr>\n",
       "      <th>2</th>\n",
       "      <td>superhero_test_3</td>\n",
       "      <td>iron_man</td>\n",
       "    </tr>\n",
       "    <tr>\n",
       "      <th>3</th>\n",
       "      <td>superhero_test_4</td>\n",
       "      <td>bat_man</td>\n",
       "    </tr>\n",
       "    <tr>\n",
       "      <th>4</th>\n",
       "      <td>superhero_test_5</td>\n",
       "      <td>captain_america</td>\n",
       "    </tr>\n",
       "  </tbody>\n",
       "</table>\n",
       "</div>"
      ],
      "text/plain": [
       "           filename        Superhero\n",
       "0  superhero_test_1          ant_man\n",
       "1  superhero_test_2        super_man\n",
       "2  superhero_test_3         iron_man\n",
       "3  superhero_test_4          bat_man\n",
       "4  superhero_test_5  captain_america"
      ]
     },
     "execution_count": 51,
     "metadata": {},
     "output_type": "execute_result"
    }
   ],
   "source": [
    "submission.head()"
   ]
  },
  {
   "cell_type": "code",
   "execution_count": 52,
   "metadata": {},
   "outputs": [
    {
     "name": "stderr",
     "output_type": "stream",
     "text": [
      "100%|████████████████████████████████████████████████████████████████████████████| 3375/3375 [00:02<00:00, 1480.11it/s]\n"
     ]
    }
   ],
   "source": [
    "# find filename in predict and insert superhero in submission\n",
    "for i in tqdm(range(submission.shape[0])):\n",
    "    filename = submission['filename'].iloc[i]\n",
    "    submission['Superhero'].iloc[i] = predict_df['Superhero'][predict_df['filename'] == filename].values[0]"
   ]
  },
  {
   "cell_type": "code",
   "execution_count": 55,
   "metadata": {},
   "outputs": [
    {
     "data": {
      "text/html": [
       "<div>\n",
       "<style>\n",
       "    .dataframe thead tr:only-child th {\n",
       "        text-align: right;\n",
       "    }\n",
       "\n",
       "    .dataframe thead th {\n",
       "        text-align: left;\n",
       "    }\n",
       "\n",
       "    .dataframe tbody tr th {\n",
       "        vertical-align: top;\n",
       "    }\n",
       "</style>\n",
       "<table border=\"1\" class=\"dataframe\">\n",
       "  <thead>\n",
       "    <tr style=\"text-align: right;\">\n",
       "      <th></th>\n",
       "      <th>filename</th>\n",
       "      <th>Superhero</th>\n",
       "    </tr>\n",
       "  </thead>\n",
       "  <tbody>\n",
       "    <tr>\n",
       "      <th>0</th>\n",
       "      <td>superhero_test_1</td>\n",
       "      <td>spider_man</td>\n",
       "    </tr>\n",
       "    <tr>\n",
       "      <th>1</th>\n",
       "      <td>superhero_test_2</td>\n",
       "      <td>super_man</td>\n",
       "    </tr>\n",
       "    <tr>\n",
       "      <th>2</th>\n",
       "      <td>superhero_test_3</td>\n",
       "      <td>iron_man</td>\n",
       "    </tr>\n",
       "    <tr>\n",
       "      <th>3</th>\n",
       "      <td>superhero_test_4</td>\n",
       "      <td>bat_man</td>\n",
       "    </tr>\n",
       "    <tr>\n",
       "      <th>4</th>\n",
       "      <td>superhero_test_5</td>\n",
       "      <td>captain_america</td>\n",
       "    </tr>\n",
       "  </tbody>\n",
       "</table>\n",
       "</div>"
      ],
      "text/plain": [
       "           filename        Superhero\n",
       "0  superhero_test_1       spider_man\n",
       "1  superhero_test_2        super_man\n",
       "2  superhero_test_3         iron_man\n",
       "3  superhero_test_4          bat_man\n",
       "4  superhero_test_5  captain_america"
      ]
     },
     "execution_count": 55,
     "metadata": {},
     "output_type": "execute_result"
    }
   ],
   "source": [
    "submission.head()"
   ]
  },
  {
   "cell_type": "code",
   "execution_count": 56,
   "metadata": {
    "collapsed": true
   },
   "outputs": [],
   "source": [
    "submission.to_csv('submit.csv', index=False)"
   ]
  },
  {
   "cell_type": "code",
   "execution_count": null,
   "metadata": {
    "collapsed": true
   },
   "outputs": [],
   "source": []
  },
  {
   "cell_type": "code",
   "execution_count": null,
   "metadata": {
    "collapsed": true
   },
   "outputs": [],
   "source": []
  },
  {
   "cell_type": "code",
   "execution_count": null,
   "metadata": {
    "collapsed": true
   },
   "outputs": [],
   "source": []
  },
  {
   "cell_type": "code",
   "execution_count": null,
   "metadata": {
    "collapsed": true
   },
   "outputs": [],
   "source": []
  },
  {
   "cell_type": "code",
   "execution_count": null,
   "metadata": {
    "collapsed": true
   },
   "outputs": [],
   "source": []
  },
  {
   "cell_type": "code",
   "execution_count": null,
   "metadata": {
    "collapsed": true
   },
   "outputs": [],
   "source": []
  },
  {
   "cell_type": "code",
   "execution_count": null,
   "metadata": {
    "collapsed": true
   },
   "outputs": [],
   "source": []
  },
  {
   "cell_type": "code",
   "execution_count": null,
   "metadata": {
    "collapsed": true
   },
   "outputs": [],
   "source": []
  },
  {
   "cell_type": "code",
   "execution_count": null,
   "metadata": {
    "collapsed": true
   },
   "outputs": [],
   "source": []
  },
  {
   "cell_type": "code",
   "execution_count": 20,
   "metadata": {
    "collapsed": true
   },
   "outputs": [],
   "source": [
    "# Data augmentation and normalization for training\n",
    "# Just normalization for validation\n",
    "data_transforms = transforms.Compose([\n",
    "        #transforms.RandomResizedCrop(224),\n",
    "        #transforms.Resize(224),\n",
    "        transforms.CenterCrop(224),\n",
    "        transforms.RandomHorizontalFlip(),\n",
    "        transforms.ToTensor(),\n",
    "        transforms.Normalize([0.485, 0.456, 0.406], [0.229, 0.224, 0.225])\n",
    "        ])\n",
    "    \n",
    "image_datasets = datasets.ImageFolder(TRAIN_PATH, data_transforms)\n",
    "\n",
    "image_dataloader = DataLoader(image_datasets, batch_size=5, shuffle=True)\n",
    "\n",
    "dataset_sizes = len(image_datasets)\n",
    "class_names = image_datasets.classes\n",
    "\n",
    "#use_gpu = torch.cuda.is_available()\n",
    "use_gpu = False"
   ]
  },
  {
   "cell_type": "code",
   "execution_count": 37,
   "metadata": {},
   "outputs": [
    {
     "data": {
      "image/png": "[encoded data removed]",
      "text/plain": [
       "<matplotlib.figure.Figure at 0x224afbf43c8>"
      ]
     },
     "metadata": {},
     "output_type": "display_data"
    }
   ],
   "source": [
    "def imshow(inp, title=None):\n",
    "    \"\"\"Imshow for Tensor.\"\"\"\n",
    "    inp = inp.numpy().transpose((1, 2, 0))\n",
    "    mean = np.array([0.485, 0.456, 0.406])\n",
    "    std = np.array([0.229, 0.224, 0.225])\n",
    "    inp = std * inp + mean\n",
    "    inp = np.clip(inp, 0, 1)\n",
    "    plt.imshow(inp)\n",
    "    if title is not None:\n",
    "        plt.title(title)\n",
    "    plt.pause(0.001)  # pause a bit so that plots are updated\n",
    "\n",
    "\n",
    "# Get a batch of training data\n",
    "inputs, classes = next(iter(image_dataloader))\n",
    "\n",
    "# Make a grid from batch\n",
    "out = torchvision.utils.make_grid(inputs)\n",
    "\n",
    "imshow(out, title=[class_names[x] for x in classes])"
   ]
  },
  {
   "cell_type": "code",
   "execution_count": 38,
   "metadata": {},
   "outputs": [
    {
     "data": {
      "text/plain": [
       "\n",
       "  3\n",
       "  2\n",
       "  5\n",
       " 10\n",
       "  4\n",
       "[torch.LongTensor of size 5]"
      ]
     },
     "execution_count": 38,
     "metadata": {},
     "output_type": "execute_result"
    }
   ],
   "source": [
    "classes"
   ]
  },
  {
   "cell_type": "code",
   "execution_count": 100,
   "metadata": {},
   "outputs": [
    {
     "data": {
      "text/plain": [
       "\n",
       "  5\n",
       "  9\n",
       "  8\n",
       " 10\n",
       "  9\n",
       "[torch.LongTensor of size 5]"
      ]
     },
     "execution_count": 100,
     "metadata": {},
     "output_type": "execute_result"
    }
   ],
   "source": [
    "classes"
   ]
  },
  {
   "cell_type": "code",
   "execution_count": 101,
   "metadata": {},
   "outputs": [
    {
     "data": {
      "text/plain": [
       "['Ant-Man',\n",
       " 'Aquaman',\n",
       " 'Avengers',\n",
       " 'Batman',\n",
       " 'Black Panther',\n",
       " 'Captain America',\n",
       " 'Catwoman',\n",
       " 'Ghost Rider',\n",
       " 'Hulk',\n",
       " 'Iron Man',\n",
       " 'Spiderman',\n",
       " 'Superman']"
      ]
     },
     "execution_count": 101,
     "metadata": {},
     "output_type": "execute_result"
    }
   ],
   "source": [
    "image_datasets.classes"
   ]
  },
  {
   "cell_type": "code",
   "execution_count": 93,
   "metadata": {},
   "outputs": [
    {
     "data": {
      "text/plain": [
       "[\n",
       " ( 0 , 0 ,.,.) = \n",
       "   2.2489  2.2489  2.2489  ...   2.2489  2.2489  2.2489\n",
       "   2.2489  2.2489  2.2489  ...   2.2489  2.2489  2.2489\n",
       "   2.2489  2.2489  2.2489  ...   2.2489  2.2489  2.2489\n",
       "            ...             ⋱             ...          \n",
       "   2.2489  2.2489  2.2489  ...   2.2489  2.2489  2.2489\n",
       "   2.2489  2.2489  2.2489  ...   2.2489  2.2489  2.2489\n",
       "   2.2489  2.2489  2.2489  ...   2.2489  2.2489  2.2489\n",
       " \n",
       " ( 0 , 1 ,.,.) = \n",
       "   2.4286  2.4286  2.4286  ...   2.4286  2.4286  2.4286\n",
       "   2.4286  2.4286  2.4286  ...   2.4286  2.4286  2.4286\n",
       "   2.4286  2.4286  2.4286  ...   2.4286  2.4286  2.4286\n",
       "            ...             ⋱             ...          \n",
       "   2.4286  2.4286  2.4286  ...   2.4286  2.4286  2.4286\n",
       "   2.4286  2.4286  2.4286  ...   2.4286  2.4286  2.4286\n",
       "   2.4286  2.4286  2.4286  ...   2.4286  2.4286  2.4286\n",
       " \n",
       " ( 0 , 2 ,.,.) = \n",
       "   2.6400  2.6400  2.6400  ...   2.6400  2.6400  2.6400\n",
       "   2.6400  2.6400  2.6400  ...   2.6400  2.6400  2.6400\n",
       "   2.6400  2.6400  2.6400  ...   2.6400  2.6400  2.6400\n",
       "            ...             ⋱             ...          \n",
       "   2.6400  2.6400  2.6400  ...   2.6400  2.6400  2.6400\n",
       "   2.6400  2.6400  2.6400  ...   2.6400  2.6400  2.6400\n",
       "   2.6400  2.6400  2.6400  ...   2.6400  2.6400  2.6400\n",
       "       ⋮  \n",
       " \n",
       " ( 1 , 0 ,.,.) = \n",
       "   2.2147  2.2147  2.2147  ...   2.2147  2.2147  2.2147\n",
       "   2.2147  2.2147  2.2147  ...   2.2147  2.2147  2.2147\n",
       "   2.2147  2.2147  2.2147  ...   2.2147  2.2147  2.2147\n",
       "            ...             ⋱             ...          \n",
       "   2.2147  2.2147  2.2147  ...   2.2147  2.2147  2.2147\n",
       "   2.2147  2.2147  2.2147  ...   2.2147  2.2147  2.2147\n",
       "   2.2147  2.2147  2.2147  ...   2.2147  2.2147  2.2147\n",
       " \n",
       " ( 1 , 1 ,.,.) = \n",
       "   2.3936  2.3936  2.3936  ...   2.3936  2.3936  2.3936\n",
       "   2.3936  2.3936  2.3936  ...   2.3936  2.3936  2.3936\n",
       "   2.3936  2.3936  2.3936  ...   2.3936  2.3936  2.3936\n",
       "            ...             ⋱             ...          \n",
       "   2.3936  2.3936  2.3936  ...   2.3936  2.3936  2.3936\n",
       "   2.3936  2.3936  2.3936  ...   2.3936  2.3936  2.3936\n",
       "   2.3936  2.3936  2.3936  ...   2.3936  2.3936  2.3936\n",
       " \n",
       " ( 1 , 2 ,.,.) = \n",
       "   2.6051  2.6051  2.6051  ...   2.6051  2.6051  2.6051\n",
       "   2.6051  2.6051  2.6051  ...   2.6051  2.6051  2.6051\n",
       "   2.6051  2.6051  2.6051  ...   2.6051  2.6051  2.6051\n",
       "            ...             ⋱             ...          \n",
       "   2.6051  2.6051  2.6051  ...   2.6051  2.6051  2.6051\n",
       "   2.6051  2.6051  2.6051  ...   2.6051  2.6051  2.6051\n",
       "   2.6051  2.6051  2.6051  ...   2.6051  2.6051  2.6051\n",
       "       ⋮  \n",
       " \n",
       " ( 2 , 0 ,.,.) = \n",
       "   2.2489  2.2489  2.2489  ...   2.2489  2.2489  2.2489\n",
       "   2.2489  2.2489  2.2489  ...   2.2489  2.2489  2.2489\n",
       "   2.2489  2.2489  2.2489  ...   2.2489  2.2489  2.2489\n",
       "            ...             ⋱             ...          \n",
       "   2.2489  2.2489  2.2489  ...   2.2489  2.2489  2.2489\n",
       "   2.2489  2.2489  2.2489  ...   2.2489  2.2489  2.2489\n",
       "   2.2489  2.2489  2.2489  ...   2.2489  2.2489  2.2489\n",
       " \n",
       " ( 2 , 1 ,.,.) = \n",
       "   2.4286  2.4286  2.4286  ...   2.4286  2.4286  2.4286\n",
       "   2.4286  2.4286  2.4286  ...   2.4286  2.4286  2.4286\n",
       "   2.4286  2.4286  2.4286  ...   2.4286  2.4286  2.4286\n",
       "            ...             ⋱             ...          \n",
       "   2.4286  2.4286  2.4286  ...   2.4286  2.4286  2.4286\n",
       "   2.4286  2.4286  2.4286  ...   2.4286  2.4286  2.4286\n",
       "   2.4286  2.4286  2.4286  ...   2.4286  2.4286  2.4286\n",
       " \n",
       " ( 2 , 2 ,.,.) = \n",
       "   2.6400  2.6400  2.6400  ...   2.6400  2.6400  2.6400\n",
       "   2.6400  2.6400  2.6400  ...   2.6400  2.6400  2.6400\n",
       "   2.6400  2.6400  2.6400  ...   2.6400  2.6400  2.6400\n",
       "            ...             ⋱             ...          \n",
       "   2.6400  2.6400  2.6400  ...   2.6400  2.6400  2.6400\n",
       "   2.6400  2.6400  2.6400  ...   2.6400  2.6400  2.6400\n",
       "   2.6400  2.6400  2.6400  ...   2.6400  2.6400  2.6400\n",
       "       ⋮  \n",
       " \n",
       " ( 3 , 0 ,.,.) = \n",
       "   2.2489  2.2489  2.2489  ...   2.2489  2.2489  2.2489\n",
       "   2.2489  2.2489  2.2489  ...   2.2489  2.2489  2.2489\n",
       "   2.2489  2.2489  2.2489  ...   2.2489  2.2489  2.2489\n",
       "            ...             ⋱             ...          \n",
       "   2.2489  2.2489  2.2489  ...   2.2489  2.2489  2.2489\n",
       "   2.2489  2.2489  2.2489  ...   2.2489  2.2489  2.2489\n",
       "   2.2489  2.2489  2.2489  ...   2.2489  2.2489  2.2489\n",
       " \n",
       " ( 3 , 1 ,.,.) = \n",
       "   2.4286  2.4286  2.4286  ...   2.4286  2.4286  2.4286\n",
       "   2.4286  2.4286  2.4286  ...   2.4286  2.4286  2.4286\n",
       "   2.4286  2.4286  2.4286  ...   2.4286  2.4286  2.4286\n",
       "            ...             ⋱             ...          \n",
       "   2.4286  2.4286  2.4286  ...   2.4286  2.4286  2.4286\n",
       "   2.4286  2.4286  2.4286  ...   2.4286  2.4286  2.4286\n",
       "   2.4286  2.4286  2.4286  ...   2.4286  2.4286  2.4286\n",
       " \n",
       " ( 3 , 2 ,.,.) = \n",
       "   2.6400  2.6400  2.6400  ...   2.6400  2.6400  2.6400\n",
       "   2.6400  2.6400  2.6400  ...   2.6400  2.6400  2.6400\n",
       "   2.6400  2.6400  2.6400  ...   2.6400  2.6400  2.6400\n",
       "            ...             ⋱             ...          \n",
       "   2.6400  2.6400  2.6400  ...   2.6400  2.6400  2.6400\n",
       "   2.6400  2.6400  2.6400  ...   2.6400  2.6400  2.6400\n",
       "   2.6400  2.6400  2.6400  ...   2.6400  2.6400  2.6400\n",
       "       ⋮  \n",
       " \n",
       " ( 4 , 0 ,.,.) = \n",
       "   1.8893  1.8893  1.8893  ...   1.9064  1.9064  1.9064\n",
       "   1.8893  1.8893  1.8893  ...   1.9064  1.9064  1.9064\n",
       "   1.8893  1.8893  1.8893  ...   1.9064  1.9064  1.9064\n",
       "            ...             ⋱             ...          \n",
       "   1.8893  1.8893  1.8893  ...   1.8893  1.8893  1.8893\n",
       "   1.8893  1.8893  1.8893  ...   1.8893  1.8893  1.8893\n",
       "   1.8893  1.8893  1.8893  ...   1.8893  1.8893  1.8893\n",
       " \n",
       " ( 4 , 1 ,.,.) = \n",
       "   2.0609  2.0609  2.0609  ...   2.0784  2.0784  2.0784\n",
       "   2.0609  2.0609  2.0609  ...   2.0784  2.0784  2.0784\n",
       "   2.0609  2.0609  2.0609  ...   2.0784  2.0784  2.0784\n",
       "            ...             ⋱             ...          \n",
       "   2.0609  2.0609  2.0609  ...   2.0609  2.0609  2.0609\n",
       "   2.0609  2.0609  2.0609  ...   2.0609  2.0609  2.0609\n",
       "   2.0609  2.0609  2.0609  ...   2.0609  2.0609  2.0609\n",
       " \n",
       " ( 4 , 2 ,.,.) = \n",
       "   2.2740  2.2740  2.2740  ...   2.2914  2.2914  2.2914\n",
       "   2.2740  2.2740  2.2740  ...   2.2914  2.2914  2.2914\n",
       "   2.2740  2.2740  2.2740  ...   2.2914  2.2914  2.2914\n",
       "            ...             ⋱             ...          \n",
       "   2.2740  2.2740  2.2740  ...   2.2740  2.2740  2.2740\n",
       "   2.2740  2.2740  2.2740  ...   2.2740  2.2740  2.2740\n",
       "   2.2740  2.2740  2.2740  ...   2.2740  2.2740  2.2740\n",
       " [torch.FloatTensor of size 5x3x224x224], \n",
       "   5\n",
       "   0\n",
       "  10\n",
       "   4\n",
       "   5\n",
       " [torch.LongTensor of size 5]]"
      ]
     },
     "execution_count": 93,
     "metadata": {},
     "output_type": "execute_result"
    }
   ],
   "source": [
    "next(iter(image_dataloader))"
   ]
  },
  {
   "cell_type": "code",
   "execution_count": null,
   "metadata": {
    "collapsed": true
   },
   "outputs": [],
   "source": []
  }
 ],
 "metadata": {
  "kernelspec": {
   "display_name": "Python 3",
   "language": "python",
   "name": "python3"
  },
  "language_info": {
   "codemirror_mode": {
    "name": "ipython",
    "version": 3
   },
   "file_extension": ".py",
   "mimetype": "text/x-python",
   "name": "python",
   "nbconvert_exporter": "python",
   "pygments_lexer": "ipython3",
   "version": "3.6.3"
  }
 },
 "nbformat": 4,
 "nbformat_minor": 2
}
